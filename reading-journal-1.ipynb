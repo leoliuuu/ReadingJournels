{
 "cells": [
  {
   "cell_type": "markdown",
   "metadata": {},
   "source": [
    "# Day 1 Reading Journal\n",
    "\n",
    "Hi everyone.  These are the exercises for the first set of readings from [_Think Python_](http://greenteapress.com/wp/think-python-2e/).  While this journal consists of several required exercises, it is meant to encourage active reading more generally.  You should use this journal to take detailed notes, catalog questions, and explore the content from Think Python deeply.\n",
    "\n",
    "For more information on using the Jupyter notebook, check out the documentation [here](https://www.datacamp.com/community/tutorials/tutorial-jupyter-notebook##UseJupyter).\n",
    "\n",
    "Additionally, in order to write text in this document, you will be making use of Markdown cells. A handy cheatsheet for Markdown is available [here](https://github.com/adam-p/markdown-here/wiki/Markdown-Cheatsheet).\n",
    "\n",
    "Reading: _Think Python_ chapters 1-3. _Think Python_ [chapter 5](http://greenteapress.com/thinkpython2/html/thinkpython2006.html), sections 5.2-5.7 and section 5.11.\n",
    "\n",
    "**Before you begin**: Please log the amount of time you spend on the readings and on this reading journal. One of this last questions in this notebook asks for this."
   ]
  },
  {
   "cell_type": "markdown",
   "metadata": {},
   "source": [
    "## Chapter 1\n",
    "Note: the exercise numbers below match up with the reading for ease of cross referencing."
   ]
  },
  {
   "cell_type": "markdown",
   "metadata": {},
   "source": [
    "### Exercise 1.4\n",
    "\n",
    "~~Start the Python interpreter and use it as a simple calculator.~~ Use a Jupyter notebook as a simple calculator. Enter into each of the following cells a Python expression that calculates the answer to each of the following questions.\n",
    "\n",
    "* [Example] How many seconds are there in 42 minutes?"
   ]
  },
  {
   "cell_type": "code",
   "execution_count": 1,
   "metadata": {},
   "outputs": [
    {
     "data": {
      "text/plain": [
       "2520"
      ]
     },
     "execution_count": 1,
     "metadata": {},
     "output_type": "execute_result"
    }
   ],
   "source": [
    "42 * 60"
   ]
  },
  {
   "cell_type": "markdown",
   "metadata": {},
   "source": [
    "* How many seconds are there in 42 minutes 42 seconds?"
   ]
  },
  {
   "cell_type": "code",
   "execution_count": 1,
   "metadata": {},
   "outputs": [
    {
     "data": {
      "text/plain": [
       "2562"
      ]
     },
     "execution_count": 1,
     "metadata": {},
     "output_type": "execute_result"
    }
   ],
   "source": [
    "42*60+42"
   ]
  },
  {
   "cell_type": "markdown",
   "metadata": {},
   "source": [
    "* How many miles are there in 10 kilometers? Hint: there are 1.61 kilometers in a mile."
   ]
  },
  {
   "cell_type": "code",
   "execution_count": 2,
   "metadata": {},
   "outputs": [
    {
     "data": {
      "text/plain": [
       "6.211180124223602"
      ]
     },
     "execution_count": 2,
     "metadata": {},
     "output_type": "execute_result"
    }
   ],
   "source": [
    "10/1.61"
   ]
  },
  {
   "cell_type": "markdown",
   "metadata": {},
   "source": [
    "* If you run a 10 kilometer race in 42 minutes 42 seconds, what is your average pace (time per mile in minutes and seconds)? What is your average speed in miles per hour?"
   ]
  },
  {
   "cell_type": "code",
   "execution_count": 11,
   "metadata": {},
   "outputs": [],
   "source": [
    ">>> miles=10/1.61"
   ]
  },
  {
   "cell_type": "code",
   "execution_count": 13,
   "metadata": {},
   "outputs": [],
   "source": [
    ">>> secs_ran=42*60+42"
   ]
  },
  {
   "cell_type": "code",
   "execution_count": 21,
   "metadata": {
    "collapsed": true
   },
   "outputs": [],
   "source": [
    ">>> avg_pace=(secs_ran/miles)/60"
   ]
  },
  {
   "cell_type": "code",
   "execution_count": 25,
   "metadata": {},
   "outputs": [
    {
     "name": "stdout",
     "output_type": "stream",
     "text": [
      "6.874700000000001\n"
     ]
    }
   ],
   "source": [
    "print(avg_pace)"
   ]
  },
  {
   "cell_type": "code",
   "execution_count": 23,
   "metadata": {
    "collapsed": true
   },
   "outputs": [],
   "source": [
    ">>> avg_pace_secs_ran=0.8747*60"
   ]
  },
  {
   "cell_type": "code",
   "execution_count": 26,
   "metadata": {},
   "outputs": [
    {
     "name": "stdout",
     "output_type": "stream",
     "text": [
      "52.482\n"
     ]
    }
   ],
   "source": [
    "print (avg_pace_secs_ran)"
   ]
  },
  {
   "cell_type": "markdown",
   "metadata": {},
   "source": [
    "Avergae Pace (time per mile in minutes and seconds)=6  mins and 52.482 seconds. "
   ]
  },
  {
   "cell_type": "code",
   "execution_count": 27,
   "metadata": {
    "collapsed": true
   },
   "outputs": [],
   "source": [
    ">>> avg_speed_mph= (10/1.61)/(2562/60/60)"
   ]
  },
  {
   "cell_type": "code",
   "execution_count": 28,
   "metadata": {},
   "outputs": [
    {
     "name": "stdout",
     "output_type": "stream",
     "text": [
      "8.727653570337614\n"
     ]
    }
   ],
   "source": [
    "print (avg_speed_mph)"
   ]
  },
  {
   "cell_type": "markdown",
   "metadata": {},
   "source": [
    "## Chapter 2\n",
    "\n",
    "### Question 1\n",
    "\n",
    "_Think Python_ defines *interactive mode* and *script mode*. Is the Python code that runs in a Jupyter notebook, using interactive mode or script mode? Enter your answer in the cell below."
   ]
  },
  {
   "cell_type": "markdown",
   "metadata": {},
   "source": [
    "interactive mode"
   ]
  },
  {
   "cell_type": "markdown",
   "metadata": {},
   "source": [
    "### Exercise 1\n",
    "\n",
    "Is each of the following Python statements a *syntax error*, a *runtime error*, a *semantic error*, or *correct*?\n",
    "\n",
    "For each question, use the first (code) cell to run the program. Enter your answer into the second (Markdown) cell."
   ]
  },
  {
   "cell_type": "code",
   "execution_count": null,
   "metadata": {
    "collapsed": true
   },
   "outputs": [],
   "source": [
    "42 = n"
   ]
  },
  {
   "cell_type": "markdown",
   "metadata": {
    "collapsed": true
   },
   "source": [
    "syntax error"
   ]
  },
  {
   "cell_type": "markdown",
   "metadata": {},
   "source": [
    "* Set `x` and `y` each to the value `1`:"
   ]
  },
  {
   "cell_type": "code",
   "execution_count": 35,
   "metadata": {
    "collapsed": true
   },
   "outputs": [],
   "source": [
    "x = y = 1"
   ]
  },
  {
   "cell_type": "markdown",
   "metadata": {},
   "source": [
    "correct"
   ]
  },
  {
   "cell_type": "markdown",
   "metadata": {},
   "source": [
    "* Set `x` and `y` each to the value `2`:"
   ]
  },
  {
   "cell_type": "code",
   "execution_count": null,
   "metadata": {
    "collapsed": true
   },
   "outputs": [],
   "source": [
    "x = y = 1"
   ]
  },
  {
   "cell_type": "markdown",
   "metadata": {},
   "source": [
    "semantic error"
   ]
  },
  {
   "cell_type": "markdown",
   "metadata": {},
   "source": [
    "* Multiply `x` and `y`:"
   ]
  },
  {
   "cell_type": "code",
   "execution_count": null,
   "metadata": {
    "collapsed": true
   },
   "outputs": [],
   "source": [
    "x y"
   ]
  },
  {
   "cell_type": "markdown",
   "metadata": {},
   "source": [
    "syntax error"
   ]
  },
  {
   "cell_type": "markdown",
   "metadata": {},
   "source": [
    "### Exercise 2.2\n",
    "\n",
    "Practice using the Python interpreter as a calculator.  For each of these provide Python code that computes each answer."
   ]
  },
  {
   "cell_type": "markdown",
   "metadata": {},
   "source": [
    "The volume of a sphere with radius r is $4/3 \\pi  r^3$. What is the volume of a sphere with radius 5?\n",
    "\n",
    "You can approximate pi with 3.14 or import it through the [Python math library](https://docs.python.org/3/library/math.html#constants). (`import` is covered in [Chapter 3.2](http://greenteapress.com/thinkpython2/html/thinkpython2004.html#sec28).)"
   ]
  },
  {
   "cell_type": "code",
   "execution_count": 38,
   "metadata": {
    "scrolled": true
   },
   "outputs": [],
   "source": [
    "import math"
   ]
  },
  {
   "cell_type": "code",
   "execution_count": 39,
   "metadata": {},
   "outputs": [
    {
     "data": {
      "text/plain": [
       "523.5987755982989"
      ]
     },
     "execution_count": 39,
     "metadata": {},
     "output_type": "execute_result"
    }
   ],
   "source": [
    "4/3*math.pi*5**3"
   ]
  },
  {
   "cell_type": "markdown",
   "metadata": {},
   "source": [
    "Suppose the cover price of a book is \\$24.95, but bookstores get a 40% discount. Shipping costs \\$3 for the first copy and 75 cents for each additional copy. What is the total wholesale cost for 60 copies?"
   ]
  },
  {
   "cell_type": "code",
   "execution_count": 40,
   "metadata": {},
   "outputs": [
    {
     "data": {
      "text/plain": [
       "646.0500000000001"
      ]
     },
     "execution_count": 40,
     "metadata": {},
     "output_type": "execute_result"
    }
   ],
   "source": [
    "24.95*0.4+3+(24.95*0.4+0.75)*59"
   ]
  },
  {
   "cell_type": "markdown",
   "metadata": {},
   "source": [
    "If I leave my house at 6:52 am and run 1 mile at an easy pace (8:15 per mile), then 3 miles at tempo (7:12 per mile) and 1 mile at easy pace again, what time do I get home for breakfast? "
   ]
  },
  {
   "cell_type": "code",
   "execution_count": 42,
   "metadata": {},
   "outputs": [],
   "source": [
    ">>> secs_ran=(8*60+15)+(3*7*60+12)+(8*60+15)"
   ]
  },
  {
   "cell_type": "code",
   "execution_count": 44,
   "metadata": {},
   "outputs": [],
   "source": [
    ">>> mins_ran=secs_ran/60"
   ]
  },
  {
   "cell_type": "code",
   "execution_count": 45,
   "metadata": {},
   "outputs": [
    {
     "name": "stdout",
     "output_type": "stream",
     "text": [
      "37.7\n"
     ]
    }
   ],
   "source": [
    "print (mins_ran)"
   ]
  },
  {
   "cell_type": "code",
   "execution_count": 59,
   "metadata": {},
   "outputs": [],
   "source": [
    ">>> time_min=52+38-60"
   ]
  },
  {
   "cell_type": "code",
   "execution_count": 51,
   "metadata": {
    "collapsed": true
   },
   "outputs": [],
   "source": [
    ">>> time_hour=6+1"
   ]
  },
  {
   "cell_type": "code",
   "execution_count": 61,
   "metadata": {},
   "outputs": [
    {
     "name": "stdout",
     "output_type": "stream",
     "text": [
      "7 : 30 am\n"
     ]
    }
   ],
   "source": [
    "print (time_hour,\":\", time_min,\"am\")"
   ]
  },
  {
   "cell_type": "markdown",
   "metadata": {},
   "source": [
    "## Chapter 3"
   ]
  },
  {
   "cell_type": "markdown",
   "metadata": {},
   "source": [
    "### Exercise 3.1\n",
    "\n",
    "Write a function named `right_justify` that takes a string named s as a parameter and prints the string with enough leading spaces so that the last letter of the string is in column 70 of the display.\n",
    "\n",
    "```\n",
    ">>> right_justify('monty')\n",
    "                                                                 monty\n",
    "```\n",
    "Hint: Use string concatenation and repetition. Also, Python provides a built-in function called `len` that returns the length of a string, so the value of `len('monty')` is 5."
   ]
  },
  {
   "cell_type": "code",
   "execution_count": 66,
   "metadata": {},
   "outputs": [],
   "source": [
    " def right_justify(s):\n",
    "         print((70-len(s))*' '+s)"
   ]
  },
  {
   "cell_type": "code",
   "execution_count": 67,
   "metadata": {},
   "outputs": [
    {
     "name": "stdout",
     "output_type": "stream",
     "text": [
      "                                                                 monty\n"
     ]
    }
   ],
   "source": [
    "right_justify(\"monty\")"
   ]
  },
  {
   "cell_type": "markdown",
   "metadata": {},
   "source": [
    "### Exercise 3.3\n",
    "\n",
    "Note: This exercise should be done using only the statements and other features we have learned so far.\n",
    "\n",
    "1\\. Write a function that draws a grid like the following:\n",
    "\n",
    "```\n",
    "+ - - - - + - - - - +\n",
    "|         |         |\n",
    "|         |         |\n",
    "|         |         |\n",
    "|         |         |\n",
    "+ - - - - + - - - - +\n",
    "|         |         |\n",
    "|         |         |\n",
    "|         |         |\n",
    "|         |         |\n",
    "+ - - - - + - - - - +\n",
    "```\n",
    "Note: There are four empty spaces between the vertical bars.\n",
    "\n",
    "To print more than one value on a line, you can print a comma-separated sequence of values:\n",
    "\n",
    "```\n",
    "print('+', '-')\n",
    "```\n",
    "\n",
    "By default, `print` advances to the next line, but you can override that behavior and put a space at the end, like this:\n",
    "\n",
    "```\n",
    "print('+', end=' ')\n",
    "print('-')\n",
    "```\n",
    "\n",
    "The output of these statements is '+ -'.  The output from the next print statement would begin on the next line."
   ]
  },
  {
   "cell_type": "code",
   "execution_count": 31,
   "metadata": {},
   "outputs": [
    {
     "name": "stdout",
     "output_type": "stream",
     "text": [
      "+ - - - - + - - - - +\n",
      "|         |         |\n",
      "|         |         |\n",
      "|         |         |\n",
      "|         |         |\n",
      "+ - - - - + - - - - +\n",
      "|         |         |\n",
      "|         |         |\n",
      "|         |         |\n",
      "|         |         |\n",
      "+ - - - - + - - - - +\n"
     ]
    }
   ],
   "source": [
    "def do_twice(f):\n",
    "    f()\n",
    "    f()\n",
    "\n",
    "def do_four(f):\n",
    "    do_twice(f)\n",
    "    do_twice(f)\n",
    "\n",
    "def print_beam():\n",
    "    print('+ - - - -', end=' ')\n",
    "\n",
    "def print_post():\n",
    "    print('|        ', end=' ')\n",
    "\n",
    "def print_beams():\n",
    "    do_twice(print_beam)\n",
    "    print('+')\n",
    "\n",
    "def print_posts():\n",
    "    do_twice(print_post)\n",
    "    print('|')\n",
    "\n",
    "def print_row():\n",
    "    print_beams()\n",
    "    do_four(print_posts)\n",
    "\n",
    "def print_grid():\n",
    "    do_twice(print_row)\n",
    "    print_beams()\n",
    "\n",
    "print_grid()"
   ]
  },
  {
   "cell_type": "markdown",
   "metadata": {},
   "source": [
    "2\\. Write a function that draws a similar grid with four rows and four columns."
   ]
  },
  {
   "cell_type": "code",
   "execution_count": 33,
   "metadata": {},
   "outputs": [
    {
     "name": "stdout",
     "output_type": "stream",
     "text": [
      "+ - - - - + - - - - + - - - - + - - - - + \n",
      "|         |         |         |         | \n",
      "|         |         |         |         | \n",
      "|         |         |         |         | \n",
      "|         |         |         |         | \n",
      "+ - - - - + - - - - + - - - - + - - - - + \n",
      "|         |         |         |         | \n",
      "|         |         |         |         | \n",
      "|         |         |         |         | \n",
      "|         |         |         |         | \n",
      "+ - - - - + - - - - + - - - - + - - - - + \n",
      "|         |         |         |         | \n",
      "|         |         |         |         | \n",
      "|         |         |         |         | \n",
      "|         |         |         |         | \n",
      "+ - - - - + - - - - + - - - - + - - - - + \n",
      "|         |         |         |         | \n",
      "|         |         |         |         | \n",
      "|         |         |         |         | \n",
      "|         |         |         |         | \n",
      "+ - - - - + - - - - + - - - - + - - - - + \n"
     ]
    }
   ],
   "source": [
    "def one_four_one(f, g, h):    \n",
    "    f()\n",
    "    do_four(g)\n",
    "    h()\n",
    "\n",
    "def print_plus():\n",
    "    print('+', end=' ')\n",
    "\n",
    "def print_dash():\n",
    "    print('-', end=' ')\n",
    "\n",
    "def print_bar():\n",
    "    print('|', end=' ')\n",
    "\n",
    "def print_space():\n",
    "    print(' ', end=' ')\n",
    "\n",
    "def print_end():\n",
    "    print()\n",
    "\n",
    "def nothing():\n",
    "    \"do nothing\"\n",
    "\n",
    "def print1beam():\n",
    "    one_four_one(nothing, print_dash, print_plus)\n",
    "\n",
    "def print1post():\n",
    "    one_four_one(nothing, print_space, print_bar)\n",
    "\n",
    "def print4beams():\n",
    "    one_four_one(print_plus, print1beam, print_end)\n",
    "\n",
    "def print4posts():\n",
    "    one_four_one(print_bar, print1post, print_end)\n",
    "\n",
    "def print_row():\n",
    "    one_four_one(nothing, print4posts, print4beams)\n",
    "\n",
    "def print_grid():\n",
    "    one_four_one(print4beams, print_row, nothing)\n",
    "\n",
    "print_grid()\n"
   ]
  },
  {
   "cell_type": "markdown",
   "metadata": {},
   "source": [
    "## Chapter 5.1 - 5.7"
   ]
  },
  {
   "cell_type": "markdown",
   "metadata": {},
   "source": [
    "### Exercise 5.2\n",
    "\n",
    "Fermat’s Last Theorem says that there are no positive integers $a$, $b$, and $c$ such that $$a^n + b^n = c^n$$ for any values of $n$ greater than 2.\n",
    "\n",
    "1\\. Write a function named `check_fermat` that takes four parameters – $a$, $b$, $c$ and $n$ – and that checks to see if Fermat’s theorem holds. If n is greater than 2 and\n",
    "$$a^n + b^n = c^n$$ the program should print: \"Holy smokes, Fermat was wrong!\" Otherwise the program should print: \"No, that doesn’t work.\""
   ]
  },
  {
   "cell_type": "code",
   "execution_count": 75,
   "metadata": {
    "collapsed": true
   },
   "outputs": [],
   "source": [
    "def check_fermat(a, b, c, n):\n",
    "    if n > 2 and (a**n + b**n == c**n):\n",
    "        print(\"Holy smokes, Fermat was wrong!\")\n",
    "    else:\n",
    "        print(\"No, that doesn’t work.\")"
   ]
  },
  {
   "cell_type": "markdown",
   "metadata": {},
   "source": [
    "2\\. Write a function that prompts the user to input values for a, b, c and n, converts them to integers, and uses `check_fermat` to check whether they violate Fermat’s theorem."
   ]
  },
  {
   "cell_type": "code",
   "execution_count": null,
   "metadata": {},
   "outputs": [],
   "source": [
    "def check_numbers():\n",
    "    a = int(input(\"Enter a number for a: \"))\n",
    "    b = int(input(\"Enter a number for b: \"))\n",
    "    c = int(input(\"Enter a number for c: \"))\n",
    "    n = int(input(\"Enter a number for n: \"))\n",
    "    return check_fermat(a, b, c, n)\n",
    "\n",
    "check_numbers()"
   ]
  },
  {
   "cell_type": "markdown",
   "metadata": {},
   "source": [
    "### Exercise 5.3 \n",
    "\n",
    "If you are given three sticks, you may or may not be able to arrange them in a triangle. For example, if one of the sticks is 12 inches long and the other two are one inch long, it is clear that you will not be able to get the short sticks to meet in the middle. For any three lengths, there is a simple test to see if it is possible to form a triangle:\n",
    "> If any of the three lengths is greater than the sum of the other two, then you cannot form a triangle. Otherwise, you can. (If the sum of two lengths equals the third, they form what is called a “degenerate” triangle.)\n",
    "\n",
    "1\\. Write a function named `is_triangle` that takes three integers as arguments, and that prints either \"Yes\" or \"No,\" depending on whether you can or cannot form a triangle from sticks with the given lengths."
   ]
  },
  {
   "cell_type": "code",
   "execution_count": null,
   "metadata": {
    "collapsed": true
   },
   "outputs": [],
   "source": [
    "def is_triangle(a,b,c):\n",
    "    if a+b>=c or a+c>=b or b+c>=a:\n",
    "        print (\"Yes\")\n",
    "    else:\n",
    "        print (\"No\")"
   ]
  },
  {
   "cell_type": "markdown",
   "metadata": {},
   "source": [
    "2\\. Write a function that prompts the user to input three stick lengths, converts them to integers, and uses `is_triangle` to check whether sticks with the given lengths can form a triangle."
   ]
  },
  {
   "cell_type": "code",
   "execution_count": null,
   "metadata": {
    "collapsed": true
   },
   "outputs": [],
   "source": [
    "def prompt_number():\n",
    "    a = int(input(\"Enter a number for a: \"))\n",
    "    b = int(input(\"Enter a number for b: \"))\n",
    "    c = int(input(\"Enter a number for c: \"))\n",
    "        return is_triangle(a, b, c)\n",
    "prompt_number()"
   ]
  },
  {
   "cell_type": "markdown",
   "metadata": {},
   "source": [
    "# Supplementary Reading\n",
    "Read [Holding a Program in One's Head](http://paulgraham.com/head.html). From the list of bullet points:\n",
    "\n",
    "1\\. Is there one that you already apply to any activities in your life? Name the bullet point, and describe the area where you apply it."
   ]
  },
  {
   "cell_type": "markdown",
   "metadata": {},
   "source": [
    "Avoid distraction: every time when I do my homework, I dedicate a time slot where I would not be distracted in any cases so I can focus on my work."
   ]
  },
  {
   "cell_type": "markdown",
   "metadata": {},
   "source": [
    "2\\. Is there a point that you haven't applied but would like to?"
   ]
  },
  {
   "cell_type": "markdown",
   "metadata": {},
   "source": [
    "Use succinct languages"
   ]
  },
  {
   "cell_type": "markdown",
   "metadata": {},
   "source": [
    "3\\. Is there a point that you don't believe in, don't believe can apply in this course, or doesn't make sense to you? If so, name the bullet point and briefly describe why."
   ]
  },
  {
   "cell_type": "markdown",
   "metadata": {},
   "source": [
    "No, I believe all points can be extremely helpful in this course."
   ]
  },
  {
   "cell_type": "markdown",
   "metadata": {},
   "source": [
    "# Course Policies\n",
    "What is the maximum amount of time you should spend on a reading journal before asking for help?"
   ]
  },
  {
   "cell_type": "markdown",
   "metadata": {},
   "source": [
    "90 mins"
   ]
  },
  {
   "cell_type": "markdown",
   "metadata": {},
   "source": [
    "Can you get credit for a late reading journal?"
   ]
  },
  {
   "cell_type": "markdown",
   "metadata": {},
   "source": [
    "Yes"
   ]
  },
  {
   "cell_type": "markdown",
   "metadata": {},
   "source": [
    "How many reading journals can you turn in late without penalty?"
   ]
  },
  {
   "cell_type": "markdown",
   "metadata": {},
   "source": [
    "One"
   ]
  },
  {
   "cell_type": "markdown",
   "metadata": {},
   "source": [
    "Is it okay to use external sources? If so, what do you need to do in order to do this?"
   ]
  },
  {
   "cell_type": "markdown",
   "metadata": {},
   "source": [
    "Yes if we use appropriate attribution, but for the journals, we should try our best effort to use our own codes as practices. Every code example we turn in must have a top-level comment identifying us as the author and listing anyone who made a substantial contribution. "
   ]
  },
  {
   "cell_type": "markdown",
   "metadata": {},
   "source": [
    "## Quick poll\n",
    "About how long did you spend working on this Reading Journal?"
   ]
  },
  {
   "cell_type": "markdown",
   "metadata": {},
   "source": [
    "6 hours"
   ]
  },
  {
   "cell_type": "markdown",
   "metadata": {},
   "source": [
    "## Notes for the Instructors\n",
    "\n",
    "Please use the space below to write comments to help us plan the next class session.  For instance, if you want to see us go over an example of a particular type of problem, you can indicate that here.\n",
    "\n",
    "Please remember that the best way to get quick feedback from the instructors as well as your peers, is to use Slack.  However, consider using this channel if it doesn't make sense to post your note to Slack."
   ]
  },
  {
   "cell_type": "markdown",
   "metadata": {},
   "source": [
    "N/A"
   ]
  }
 ],
 "metadata": {
  "anaconda-cloud": {},
  "kernelspec": {
   "display_name": "Python 3",
   "language": "python",
   "name": "python3"
  },
  "language_info": {
   "codemirror_mode": {
    "name": "ipython",
    "version": 3
   },
   "file_extension": ".py",
   "mimetype": "text/x-python",
   "name": "python",
   "nbconvert_exporter": "python",
   "pygments_lexer": "ipython3",
   "version": "3.6.1"
  }
 },
 "nbformat": 4,
 "nbformat_minor": 1
}
