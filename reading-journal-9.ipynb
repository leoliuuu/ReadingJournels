{
 "cells": [
  {
   "cell_type": "markdown",
   "metadata": {},
   "source": [
    "# Day 9 Reading Journal\n",
    "\n",
    "Readings:\n",
    "\n",
    "* [Storing API keys]({% link _notebooks/storing-api-keys.md %})\n",
    "* [How to Write a Git Commit Message](https://chris.beams.io/posts/git-commit/)"
   ]
  },
  {
   "cell_type": "markdown",
   "metadata": {
    "is_question": true,
    "problem": "Exercise 15.3"
   },
   "source": [
    "### Modular design\n",
    "\n",
    "Enter your function from the day 10 [Modular Design](https://softdes.olin.build/activities/modular-design) activity.\n",
    "\n",
    "For example, `grid(5, 3)` should produce:\n",
    "\n",
    "    + - - + - - + - - + - - + - - +\n",
    "    |     |     |     |     |     |\n",
    "    |     |     |     |     |     |\n",
    "    + - - + - - + - - + - - + - - +\n",
    "    |     |     |     |     |     |\n",
    "    |     |     |     |     |     |\n",
    "    + - - + - - + - - + - - + - - +\n",
    "    |     |     |     |     |     |\n",
    "    |     |     |     |     |     |\n",
    "    + - - + - - + - - + - - + - - +\n"
   ]
  },
  {
   "cell_type": "code",
   "execution_count": 122,
   "metadata": {},
   "outputs": [
    {
     "name": "stdout",
     "output_type": "stream",
     "text": [
      "+ - - + - - + - - + - - + - - +\n",
      "|     |     |     |     |     |     \n",
      "|     |     |     |     |     |     \n",
      "+ - - + - - + - - + - - + - - +\n",
      "|     |     |     |     |     |     \n",
      "|     |     |     |     |     |     \n",
      "+ - - + - - + - - + - - + - - +\n",
      "|     |     |     |     |     |     \n",
      "|     |     |     |     |     |     \n",
      "+ - - + - - + - - + - - + - - +\n"
     ]
    }
   ],
   "source": [
    "def print_two_row(string):\n",
    "    print(string)\n",
    "    print(string)\n",
    "    \n",
    "row_string = \"+ - - \"\n",
    "col_string = \"|     \"\n",
    "    \n",
    "def grid(col, row):\n",
    "    while row > 0:\n",
    "        row = row -1  \n",
    "        print((row_string*col)+\"+\") \n",
    "        print_two_row(col_string*(col+1))\n",
    "    print((row_string*col)+\"+\")\n",
    "    \n",
    "grid(5,3)"
   ]
  },
  {
   "cell_type": "markdown",
   "metadata": {
    "is_question": true,
    "problem": "Feedback"
   },
   "source": [
    "## Reading Journal feedback\n",
    "\n",
    "Leave comments on this Reading Journal in the space below."
   ]
  },
  {
   "cell_type": "markdown",
   "metadata": {},
   "source": [
    "N/A"
   ]
  },
  {
   "cell_type": "markdown",
   "metadata": {
    "feedback_response": true,
    "solution": "Feedback"
   },
   "source": [
    " "
   ]
  }
 ],
 "metadata": {
  "kernelspec": {
   "display_name": "Python 3",
   "language": "python",
   "name": "python3"
  },
  "language_info": {
   "codemirror_mode": {
    "name": "ipython",
    "version": 3
   },
   "file_extension": ".py",
   "mimetype": "text/x-python",
   "name": "python",
   "nbconvert_exporter": "python",
   "pygments_lexer": "ipython3",
   "version": "3.6.1"
  }
 },
 "nbformat": 4,
 "nbformat_minor": 1
}
