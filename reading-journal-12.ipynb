{
 "cells": [
  {
   "cell_type": "markdown",
   "metadata": {},
   "source": [
    "# Reading Journal 12"
   ]
  },
  {
   "cell_type": "markdown",
   "metadata": {},
   "source": [
    "## Technical Debt"
   ]
  },
  {
   "cell_type": "markdown",
   "metadata": {},
   "source": [
    "Readings:\n",
    "* [\"Technical Debt\"](https://martinfowler.com/bliki/TechnicalDebt.html), Martin Fowler.\n",
    "* [\"TechnicalDebtQuadrant\"](https://martinfowler.com/bliki/TechnicalDebtQuadrant.html), Martin Fowler."
   ]
  },
  {
   "cell_type": "markdown",
   "metadata": {},
   "source": [
    "### Question 1.1\n",
    "\n",
    "Name an example of technical debt in your SoftDes final project. What quadrant is it in? Why?"
   ]
  },
  {
   "cell_type": "markdown",
   "metadata": {},
   "source": [
    "Our team is working on the connect four game with human playing against the AI bot. One of examples of our technical debts can be how we design the board for the game. We initially came up with the decision of doing a matrix for the board so we could have a simple working game first. However, this comes with futuer complications such as converting the matrix to the graphic of board correspondinly. We expected this but still decided to went with this decision, which is why it is in the prudent and deliberate quadrant."
   ]
  },
  {
   "cell_type": "markdown",
   "metadata": {},
   "source": [
    "### Question 1.2\n",
    "\n",
    "Name an example of a different kind (quadrant) of technical debt in a previous software project. (This can be a SoftDes mini-project, or a project for another class or outside of class.) What quadrant is it? Why?"
   ]
  },
  {
   "cell_type": "markdown",
   "metadata": {},
   "source": [
    "The first mini-project of the semester is the gene finder. I started the project without any clue what to do. I just bluntly followed the instruction of the python file to write functions that were given and instructed step by step. I completed the project reckless without any thinking in terms of its design. I just followed the pre-set design that was given to us. Because of how clueless I was, it was in the reckless and inadvertent quadrant."
   ]
  },
  {
   "cell_type": "markdown",
   "metadata": {},
   "source": [
    "## [Chapter 19](http://greenteapress.com/thinkpython2/html/thinkpython2020.html)\n",
    "\n",
    "Reading: _Thing Python_, [Chapter 19 \"The Goodies\"](http://greenteapress.com/thinkpython2/html/thinkpython2020.html)\n",
    "\n",
    "This reading is “the goodies” - all the cool Python features that aren't strictly necessary but can make your code more concise, readable, and/or efficient.\n",
    "\n",
    "You can read any of the sections you like, but we particularly recommend sections 2, 5, 9."
   ]
  },
  {
   "cell_type": "markdown",
   "metadata": {},
   "source": [
    "## [Exceptions](https://docs.python.org/3/tutorial/errors.html)\n",
    "\n",
    "Read about Exceptions in Python and how to handle them (through section 8.4).\n",
    "\n",
    "Advanced (optional): Check out [context managers](https://docs.python.org/3/reference/datamodel.html#context-managers) and the [`with` statement](https://www.python.org/dev/peps/pep-0343/)."
   ]
  },
  {
   "cell_type": "markdown",
   "metadata": {
    "is_question": true,
    "problem": "Exercise 19.2"
   },
   "source": [
    "### Exercise 2 \n",
    "\n",
    "Complete the following function using an exception handler. How else might you implement it?"
   ]
  },
  {
   "cell_type": "code",
   "execution_count": 31,
   "metadata": {
    "collapsed": true,
    "solution": "Exercise 19.2"
   },
   "outputs": [],
   "source": [
    "import doctest\n",
    "\n",
    "names = {\"Paul\": \"Ruvolo\", \"Oliver\": \"Steele\", \"Ben\": \"Hill\", \"Amon\": \"Millner\", \"Allen\": \"Downey\"}\n",
    "\n",
    "def formal_greeting(first_name, name_dict):\n",
    "    \"\"\"Greet computing faculty by last name, and others with some skepticism.\n",
    "    \n",
    "    >>> formal_greeting(\"Oliver\", names)\n",
    "    Hello, Professor Steele!\n",
    "    >>> formal_greeting(\"Jasper\", names)\n",
    "    Howdy, stranger!\n",
    "    \"\"\"\n",
    "    try:\n",
    "        print (\"Hello, Professor {}!\".format(name_dict[first_name]))\n",
    "    except:\n",
    "        print ('Howdy, stranger!')\n",
    "\n",
    "doctest.run_docstring_examples(formal_greeting, globals())   "
   ]
  },
  {
   "cell_type": "markdown",
   "metadata": {
    "poll_response": true,
    "solution": "Time spent"
   },
   "source": [
    " "
   ]
  },
  {
   "cell_type": "markdown",
   "metadata": {
    "is_question": true,
    "problem": "Feedback"
   },
   "source": [
    "## Reading Journal feedback\n",
    "\n",
    "Have any comments on this Reading Journal? Feel free to leave them below and we'll read them when you submit your journal entry."
   ]
  },
  {
   "cell_type": "markdown",
   "metadata": {
    "feedback_response": true,
    "solution": "Feedback"
   },
   "source": [
    " "
   ]
  }
 ],
 "metadata": {
  "kernelspec": {
   "display_name": "Python 3",
   "language": "python",
   "name": "python3"
  },
  "language_info": {
   "codemirror_mode": {
    "name": "ipython",
    "version": 3
   },
   "file_extension": ".py",
   "mimetype": "text/x-python",
   "name": "python",
   "nbconvert_exporter": "python",
   "pygments_lexer": "ipython3",
   "version": "3.6.3"
  }
 },
 "nbformat": 4,
 "nbformat_minor": 1
}
